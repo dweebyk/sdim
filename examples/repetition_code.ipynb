{
 "cells": [
  {
   "cell_type": "code",
   "execution_count": 318,
   "metadata": {},
   "outputs": [],
   "source": [
    "from sdim import *\n",
    "import cirq # using cirq to visualize the circuit\n",
    "import numpy as np"
   ]
  },
  {
   "cell_type": "markdown",
   "metadata": {},
   "source": [
    "### Encoding\n",
    "We encode one qubit of information distributed amongst three using CNOT's. This is only protected against a single X error."
   ]
  },
  {
   "cell_type": "code",
   "execution_count": 319,
   "metadata": {},
   "outputs": [],
   "source": [
    "# Define the circuit\n",
    "circuit = Circuit(5, 2) # Three qubit repitition code with two ancilla qubits\n",
    "circuit.add_gate('CNOT', 0, 1)\n",
    "circuit.add_gate('CNOT', 0, 2)"
   ]
  },
  {
   "cell_type": "code",
   "execution_count": 320,
   "metadata": {},
   "outputs": [
    {
     "name": "stdout",
     "output_type": "stream",
     "text": [
      "Error inserted on qubit 0\n"
     ]
    }
   ],
   "source": [
    "def insert_x_error(circuit, p=0.5):\n",
    "    if np.random.rand() < p:\n",
    "        i = np.random.choice(3)  # choose a random qubit from 0, 1, 2\n",
    "        circuit.add_gate('X', i)\n",
    "        print(f'Error inserted on qubit {i}')\n",
    "    else:\n",
    "        print('No error inserted')\n",
    "    return\n",
    "insert_x_error(circuit, p=0.9)"
   ]
  },
  {
   "cell_type": "markdown",
   "metadata": {},
   "source": [
    "### Syndrome Measurements\n",
    "We check the operators $Z\\otimes Z \\otimes I$ and $I\\otimes Z \\otimes Z$, but these are the generators and so other syndromes can be measured, leading to different circuit constructions."
   ]
  },
  {
   "cell_type": "code",
   "execution_count": 321,
   "metadata": {},
   "outputs": [
    {
     "name": "stdout",
     "output_type": "stream",
     "text": [
      "[Measured qudit (3) as (1) and was deterministic, Measured qudit (4) as (0) and was deterministic]\n"
     ]
    }
   ],
   "source": [
    "# ZZI\n",
    "circuit.add_gate('CNOT', 0, 3)\n",
    "circuit.add_gate('CNOT', 1, 3)\n",
    "# IZZ\n",
    "circuit.add_gate('CNOT', 1, 4)\n",
    "circuit.add_gate('CNOT', 2, 4)\n",
    "# Measure\n",
    "circuit.add_gate('MEASURE', 3)\n",
    "circuit.add_gate('MEASURE', 4)\n",
    "\n",
    "program = Program(circuit)\n",
    "result = program.simulate()\n",
    "print(result)"
   ]
  },
  {
   "cell_type": "code",
   "execution_count": 322,
   "metadata": {},
   "outputs": [
    {
     "name": "stdout",
     "output_type": "stream",
     "text": [
      "Measurement on qudit 3\n",
      "Measurement on qudit 4\n",
      "                                                                                      ┌─────────────────┐\n",
      "0 (d=2): ───CNOT_2_control───CNOT_2_control───X_2───CNOT_2_control─────────────────────────────────────────────────────────────────\n",
      "            │                │                      │\n",
      "1 (d=2): ───CNOT_2_target────┼──────────────────────┼────────────────CNOT_2_control────CNOT_2_control──────────────────────────────\n",
      "                             │                      │                │                 │\n",
      "2 (d=2): ────────────────────CNOT_2_target──────────┼────────────────┼─────────────────┼────────────────────CNOT_2_control─────────\n",
      "                                                    │                │                 │                    │\n",
      "3 (d=2): ───────────────────────────────────────────CNOT_2_target────CNOT_2_target─────┼─────────────I_2────┼──────────────────────\n",
      "                                                                                       │                    │\n",
      "4 (d=2): ──────────────────────────────────────────────────────────────────────────────CNOT_2_target────────CNOT_2_target────I_2───\n",
      "                                                                                      └─────────────────┘\n"
     ]
    }
   ],
   "source": [
    "cirq_circuit = circuit_to_cirq_circuit(circuit)\n",
    "print(cirq_circuit)"
   ]
  },
  {
   "cell_type": "markdown",
   "metadata": {},
   "source": [
    "The following table is the syndrome and the corresponding error\n",
    "\\begin{array}{|c|c|}\n",
    "\\hline\n",
    "\\text{Syndrome $(q_3, q_4)$} & \\text{Error} \\\\\n",
    "\\hline\n",
    "00 & \\text{None} \\\\\n",
    "01 & X \\text{ on qubit 2} \\\\\n",
    "10 & X \\text{ on qubit 0} \\\\\n",
    "11 & X \\text{ on qubit 1} \\\\\n",
    "\\hline\n",
    "\\end{array}"
   ]
  },
  {
   "cell_type": "markdown",
   "metadata": {},
   "source": [
    "### Moving to qutrits\n",
    "The concept is the same, measuring syndromes to calculate the parity. The new syndrome mesaurements are $Z\\otimes Z^{-1} \\otimes I$ and $I \\otimes Z \\otimes Z^{-1}$. These syndromes also have to detect more types of 'bit' flips, namely $X$ and $X^2$, where the ternary Pauli operator is no longer Hermitian."
   ]
  },
  {
   "cell_type": "code",
   "execution_count": 323,
   "metadata": {},
   "outputs": [],
   "source": [
    "qutrit_circuit = Circuit(5, 3)\n",
    "qutrit_circuit.add_gate('CNOT', 0, 1) # Called CNOT but turns into SUM gate\n",
    "qutrit_circuit.add_gate('CNOT', 0, 2) "
   ]
  },
  {
   "cell_type": "code",
   "execution_count": 324,
   "metadata": {},
   "outputs": [
    {
     "name": "stdout",
     "output_type": "stream",
     "text": [
      "X^2 error inserted on qubit 1\n"
     ]
    }
   ],
   "source": [
    "def insert_qutrit_x_error(circuit, p=0.5):\n",
    "    if np.random.rand() < p:\n",
    "        i = np.random.choice(3)  # choose a random qubit from 0, 1, 2\n",
    "        error_order = np.random.choice([1, 2])  # choose between 1 and 2\n",
    "        for _ in range(error_order):\n",
    "            circuit.add_gate('X', i)\n",
    "        print(f'X^{error_order} error inserted on qubit {i}')\n",
    "    else:\n",
    "        print('No error inserted')\n",
    "    return\n",
    "insert_qutrit_x_error(qutrit_circuit, p=0.8)"
   ]
  },
  {
   "cell_type": "code",
   "execution_count": 325,
   "metadata": {},
   "outputs": [
    {
     "name": "stdout",
     "output_type": "stream",
     "text": [
      "[Measured qudit (3) as (1) and was deterministic, Measured qudit (4) as (2) and was deterministic]\n"
     ]
    }
   ],
   "source": [
    "# ZZ^2I\n",
    "qutrit_circuit.add_gate('CNOT', 0, 3)\n",
    "qutrit_circuit.add_gate('CNOT', 1, 3)\n",
    "qutrit_circuit.add_gate('CNOT', 1, 3)\n",
    "# IZZ^2\n",
    "qutrit_circuit.add_gate('CNOT', 1, 4)\n",
    "qutrit_circuit.add_gate('CNOT', 2, 4)\n",
    "qutrit_circuit.add_gate('CNOT', 2, 4)\n",
    "# Measure\n",
    "qutrit_circuit.add_gate('MEASURE', 3)\n",
    "qutrit_circuit.add_gate('MEASURE', 4)\n",
    "\n",
    "qutrit_program = Program(qutrit_circuit)\n",
    "qutrit_result = qutrit_program.simulate()\n",
    "print(qutrit_result)"
   ]
  },
  {
   "cell_type": "code",
   "execution_count": 326,
   "metadata": {},
   "outputs": [
    {
     "name": "stdout",
     "output_type": "stream",
     "text": [
      "Measurement on qudit 3\n",
      "Measurement on qudit 4\n",
      "                             ┌─────────────────┐   ┌─────────────────┐                                     ┌─────────────────┐\n",
      "0 (d=3): ───CNOT_3_control────CNOT_3_control───────────CNOT_3_control────────────────────────────────────────────────────────────────────────────────────────────────────\n",
      "            │                 │                        │\n",
      "1 (d=3): ───CNOT_3_target─────┼─────────────X_3─────X_3┼─────────────────CNOT_3_control───CNOT_3_control────CNOT_3_control───────────────────────────────────────────────\n",
      "                              │                        │                 │                │                 │\n",
      "2 (d=3): ─────────────────────CNOT_3_target────────────┼─────────────────┼────────────────┼─────────────────┼────────────────────CNOT_3_control───CNOT_3_control─────────\n",
      "                                                       │                 │                │                 │                    │                │\n",
      "3 (d=3): ──────────────────────────────────────────────CNOT_3_target─────CNOT_3_target────CNOT_3_target─────┼─────────────I_3────┼────────────────┼──────────────────────\n",
      "                                                                                                            │                    │                │\n",
      "4 (d=3): ───────────────────────────────────────────────────────────────────────────────────────────────────CNOT_3_target────────CNOT_3_target────CNOT_3_target────I_3───\n",
      "                             └─────────────────┘   └─────────────────┘                                     └─────────────────┘\n"
     ]
    }
   ],
   "source": [
    "cirq_qutrit_circuit = circuit_to_cirq_circuit(qutrit_circuit)\n",
    "print(cirq_qutrit_circuit)"
   ]
  },
  {
   "cell_type": "markdown",
   "metadata": {},
   "source": [
    "\\begin{array}{|c|c|}\n",
    "\\hline\n",
    "\\text{Syndrome $(q_3, q_4)$} & \\text{Error} \\\\\n",
    "\\hline\n",
    "00 & \\text{None} \\\\\n",
    "10 & X \\text{ on qubit 0} \\\\\n",
    "20 & X^2 \\text{ on qubit 0} \\\\\n",
    "21 & X \\text{ on qubit 1} \\\\\n",
    "12 & X^2 \\text{ on qubit 1} \\\\\n",
    "02 & X \\text{ on qubit 2} \\\\ \n",
    "01 & X^2 \\text{ on qubit 2} \\\\ \n",
    "\\hline\n",
    "\\end{array}"
   ]
  },
  {
   "cell_type": "markdown",
   "metadata": {},
   "source": [
    "### Moving to ququarts\n",
    "Things get a little strange in composite dimensions. The syndrome mesaurements are still $Z\\otimes Z^{-1} \\otimes I$ and $I \\otimes Z \\otimes Z^{-1}$."
   ]
  },
  {
   "cell_type": "code",
   "execution_count": 327,
   "metadata": {},
   "outputs": [],
   "source": [
    "ququart_circuit = Circuit(5, 3)\n",
    "ququart_circuit.add_gate('CNOT', 0, 1) # Called CNOT but turns into SUM gate\n",
    "ququart_circuit.add_gate('CNOT', 0, 2) "
   ]
  },
  {
   "cell_type": "code",
   "execution_count": 328,
   "metadata": {},
   "outputs": [
    {
     "name": "stdout",
     "output_type": "stream",
     "text": [
      "X^1 error inserted on qubit 1\n"
     ]
    }
   ],
   "source": [
    "def insert_ququart_x_error(circuit, p=0.5):\n",
    "    if np.random.rand() < p:\n",
    "        i = np.random.choice(3)  # choose a random qubit from 0, 1, 2\n",
    "        error_order = np.random.choice([1, 2, 3])  # choose between 1 and 2\n",
    "        for _ in range(error_order):\n",
    "            circuit.add_gate('X', i)\n",
    "        print(f'X^{error_order} error inserted on qubit {i}')\n",
    "    else:\n",
    "        print('No error inserted')\n",
    "    return\n",
    "insert_ququart_x_error(ququart_circuit, p=0.8)"
   ]
  },
  {
   "cell_type": "code",
   "execution_count": 329,
   "metadata": {},
   "outputs": [
    {
     "name": "stdout",
     "output_type": "stream",
     "text": [
      "[Measured qudit (3) as (0) and was deterministic, Measured qudit (4) as (1) and was deterministic]\n"
     ]
    }
   ],
   "source": [
    "# ZZ^3I\n",
    "ququart_circuit.add_gate('CNOT', 0, 3)\n",
    "ququart_circuit.add_gate('CNOT', 1, 3)\n",
    "ququart_circuit.add_gate('CNOT', 1, 3)\n",
    "ququart_circuit.add_gate('CNOT', 1, 3)\n",
    "# IZZ^3\n",
    "ququart_circuit.add_gate('CNOT', 1, 4)\n",
    "ququart_circuit.add_gate('CNOT', 2, 4)\n",
    "ququart_circuit.add_gate('CNOT', 2, 4)\n",
    "ququart_circuit.add_gate('CNOT', 2, 4)\n",
    "# Measure\n",
    "ququart_circuit.add_gate('MEASURE', 3)\n",
    "ququart_circuit.add_gate('MEASURE', 4)\n",
    "\n",
    "ququart_program = Program(ququart_circuit)\n",
    "ququart_result = ququart_program.simulate()\n",
    "print(ququart_result)"
   ]
  },
  {
   "cell_type": "code",
   "execution_count": 330,
   "metadata": {},
   "outputs": [
    {
     "name": "stdout",
     "output_type": "stream",
     "text": [
      "Measurement on qudit 3\n",
      "Measurement on qudit 4\n",
      "                             ┌─────────────────┐                                                                       ┌─────────────────┐\n",
      "0 (d=3): ───CNOT_3_control────CNOT_3_control───────CNOT_3_control─────────────────────────────────────────────────────────────────────────────────────────────────────────────────────────────────────\n",
      "            │                 │                    │\n",
      "1 (d=3): ───CNOT_3_target─────┼─────────────X_3────┼────────────────CNOT_3_control───CNOT_3_control───CNOT_3_control────CNOT_3_control────────────────────────────────────────────────────────────────\n",
      "                              │                    │                │                │                │                 │\n",
      "2 (d=3): ─────────────────────CNOT_3_target────────┼────────────────┼────────────────┼────────────────┼─────────────────┼────────────────────CNOT_3_control───CNOT_3_control───CNOT_3_control─────────\n",
      "                                                   │                │                │                │                 │                    │                │                │\n",
      "3 (d=3): ──────────────────────────────────────────CNOT_3_target────CNOT_3_target────CNOT_3_target────CNOT_3_target─────┼─────────────I_3────┼────────────────┼────────────────┼──────────────────────\n",
      "                                                                                                                        │                    │                │                │\n",
      "4 (d=3): ───────────────────────────────────────────────────────────────────────────────────────────────────────────────CNOT_3_target────────CNOT_3_target────CNOT_3_target────CNOT_3_target────I_3───\n",
      "                             └─────────────────┘                                                                       └─────────────────┘\n"
     ]
    }
   ],
   "source": [
    "cirq_ququart_circuit = circuit_to_cirq_circuit(ququart_circuit)\n",
    "print(cirq_ququart_circuit)"
   ]
  }
 ],
 "metadata": {
  "kernelspec": {
   "display_name": "QuantumComputing",
   "language": "python",
   "name": "python3"
  },
  "language_info": {
   "codemirror_mode": {
    "name": "ipython",
    "version": 3
   },
   "file_extension": ".py",
   "mimetype": "text/x-python",
   "name": "python",
   "nbconvert_exporter": "python",
   "pygments_lexer": "ipython3",
   "version": "3.11.5"
  }
 },
 "nbformat": 4,
 "nbformat_minor": 2
}
