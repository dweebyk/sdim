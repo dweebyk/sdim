{
 "cells": [
  {
   "cell_type": "code",
   "execution_count": 1,
   "metadata": {},
   "outputs": [],
   "source": [
    "from sdim import *\n",
    "import cirq # using cirq to visualize the circuit\n",
    "import numpy as np"
   ]
  },
  {
   "cell_type": "markdown",
   "metadata": {},
   "source": [
    "### Encoding\n",
    "We encode one qubit of information distributed amongst three using CNOT's. This is only protected against a single X error."
   ]
  },
  {
   "cell_type": "code",
   "execution_count": 2,
   "metadata": {},
   "outputs": [
    {
     "data": {
      "text/plain": [
       "Circuit(num_qudits=5, dimension=2, operations=[CircuitInstruction(gate_data=GateData(gateMap={'I': Gate(name='I', arg_count=1, gate_id=0), 'X': Gate(name='X', arg_count=1, gate_id=1), 'X_INV': Gate(name='X_INV', arg_count=1, gate_id=2), 'Z': Gate(name='Z', arg_count=1, gate_id=3), 'Z_INV': Gate(name='Z_INV', arg_count=1, gate_id=4), 'H': Gate(name='H', arg_count=1, gate_id=5), 'H_INV': Gate(name='H_INV', arg_count=1, gate_id=6), 'P': Gate(name='P', arg_count=1, gate_id=7), 'P_INV': Gate(name='P_INV', arg_count=1, gate_id=8), 'CNOT': Gate(name='CNOT', arg_count=2, gate_id=9), 'CNOT_INV': Gate(name='CNOT_INV', arg_count=2, gate_id=10), 'CZ': Gate(name='CZ', arg_count=2, gate_id=11), 'CZ_INV': Gate(name='CZ_INV', arg_count=2, gate_id=12), 'SWAP': Gate(name='SWAP', arg_count=2, gate_id=13), 'M': Gate(name='M', arg_count=1, gate_id=14), 'M_X': Gate(name='M_X', arg_count=1, gate_id=15)}, aliasMap={'R': 'H', 'DFT': 'H', 'R_INV': 'H_INV', 'DFT_INV': 'H_INV', 'H_DAG': 'H_INV', 'R_DAG': 'H_INV', 'DFT_DAG': 'H_INV', 'PHASE': 'P', 'S': 'P', 'PHASE_INV': 'P_INV', 'S_INV': 'P_INV', 'SUM': 'CNOT', 'CX': 'CNOT', 'C': 'CNOT', 'SUM_INV': 'CNOT_INV', 'CX_INV': 'CNOT_INV', 'C_INV': 'CNOT_INV', 'MEASURE': 'M', 'COLLAPSE': 'M', 'MZ': 'M', 'MEASURE_X': 'M_X', 'MX': 'M_X'}, num_gates=16, dimension=2), gate_name='CNOT', qudit_index=0, target_index=1, gate_id=9, name='CNOT'), CircuitInstruction(gate_data=GateData(gateMap={'I': Gate(name='I', arg_count=1, gate_id=0), 'X': Gate(name='X', arg_count=1, gate_id=1), 'X_INV': Gate(name='X_INV', arg_count=1, gate_id=2), 'Z': Gate(name='Z', arg_count=1, gate_id=3), 'Z_INV': Gate(name='Z_INV', arg_count=1, gate_id=4), 'H': Gate(name='H', arg_count=1, gate_id=5), 'H_INV': Gate(name='H_INV', arg_count=1, gate_id=6), 'P': Gate(name='P', arg_count=1, gate_id=7), 'P_INV': Gate(name='P_INV', arg_count=1, gate_id=8), 'CNOT': Gate(name='CNOT', arg_count=2, gate_id=9), 'CNOT_INV': Gate(name='CNOT_INV', arg_count=2, gate_id=10), 'CZ': Gate(name='CZ', arg_count=2, gate_id=11), 'CZ_INV': Gate(name='CZ_INV', arg_count=2, gate_id=12), 'SWAP': Gate(name='SWAP', arg_count=2, gate_id=13), 'M': Gate(name='M', arg_count=1, gate_id=14), 'M_X': Gate(name='M_X', arg_count=1, gate_id=15)}, aliasMap={'R': 'H', 'DFT': 'H', 'R_INV': 'H_INV', 'DFT_INV': 'H_INV', 'H_DAG': 'H_INV', 'R_DAG': 'H_INV', 'DFT_DAG': 'H_INV', 'PHASE': 'P', 'S': 'P', 'PHASE_INV': 'P_INV', 'S_INV': 'P_INV', 'SUM': 'CNOT', 'CX': 'CNOT', 'C': 'CNOT', 'SUM_INV': 'CNOT_INV', 'CX_INV': 'CNOT_INV', 'C_INV': 'CNOT_INV', 'MEASURE': 'M', 'COLLAPSE': 'M', 'MZ': 'M', 'MEASURE_X': 'M_X', 'MX': 'M_X'}, num_gates=16, dimension=2), gate_name='CNOT', qudit_index=0, target_index=2, gate_id=9, name='CNOT')], gate_data=GateData(gateMap={'I': Gate(name='I', arg_count=1, gate_id=0), 'X': Gate(name='X', arg_count=1, gate_id=1), 'X_INV': Gate(name='X_INV', arg_count=1, gate_id=2), 'Z': Gate(name='Z', arg_count=1, gate_id=3), 'Z_INV': Gate(name='Z_INV', arg_count=1, gate_id=4), 'H': Gate(name='H', arg_count=1, gate_id=5), 'H_INV': Gate(name='H_INV', arg_count=1, gate_id=6), 'P': Gate(name='P', arg_count=1, gate_id=7), 'P_INV': Gate(name='P_INV', arg_count=1, gate_id=8), 'CNOT': Gate(name='CNOT', arg_count=2, gate_id=9), 'CNOT_INV': Gate(name='CNOT_INV', arg_count=2, gate_id=10), 'CZ': Gate(name='CZ', arg_count=2, gate_id=11), 'CZ_INV': Gate(name='CZ_INV', arg_count=2, gate_id=12), 'SWAP': Gate(name='SWAP', arg_count=2, gate_id=13), 'M': Gate(name='M', arg_count=1, gate_id=14), 'M_X': Gate(name='M_X', arg_count=1, gate_id=15)}, aliasMap={'R': 'H', 'DFT': 'H', 'R_INV': 'H_INV', 'DFT_INV': 'H_INV', 'H_DAG': 'H_INV', 'R_DAG': 'H_INV', 'DFT_DAG': 'H_INV', 'PHASE': 'P', 'S': 'P', 'PHASE_INV': 'P_INV', 'S_INV': 'P_INV', 'SUM': 'CNOT', 'CX': 'CNOT', 'C': 'CNOT', 'SUM_INV': 'CNOT_INV', 'CX_INV': 'CNOT_INV', 'C_INV': 'CNOT_INV', 'MEASURE': 'M', 'COLLAPSE': 'M', 'MZ': 'M', 'MEASURE_X': 'M_X', 'MX': 'M_X'}, num_gates=16, dimension=2))"
      ]
     },
     "execution_count": 2,
     "metadata": {},
     "output_type": "execute_result"
    }
   ],
   "source": [
    "# Define the circuit\n",
    "circuit = Circuit(5, 2) # Three qubit repitition code with two ancilla qubits\n",
    "circuit.add_gate('CNOT', 0, 1)\n",
    "circuit.add_gate('CNOT', 0, 2)"
   ]
  },
  {
   "cell_type": "code",
   "execution_count": 3,
   "metadata": {},
   "outputs": [
    {
     "name": "stdout",
     "output_type": "stream",
     "text": [
      "Error inserted on qubit 1\n"
     ]
    }
   ],
   "source": [
    "def insert_x_error(circuit, p=0.5):\n",
    "    if np.random.rand() < p:\n",
    "        i = np.random.choice(3)  # choose a random qubit from 0, 1, 2\n",
    "        circuit.add_gate('X', i)\n",
    "        print(f'Error inserted on qubit {i}')\n",
    "    else:\n",
    "        print('No error inserted')\n",
    "    return\n",
    "insert_x_error(circuit, p=0.9)"
   ]
  },
  {
   "cell_type": "markdown",
   "metadata": {},
   "source": [
    "### Syndrome Measurements\n",
    "We check the operators $Z\\otimes Z \\otimes I$ and $I\\otimes Z \\otimes Z$, but these are the generators and so other syndromes can be measured, leading to different circuit constructions."
   ]
  },
  {
   "cell_type": "code",
   "execution_count": 4,
   "metadata": {},
   "outputs": [
    {
     "name": "stdout",
     "output_type": "stream",
     "text": [
      "[Measured qudit (3) as (1) and was deterministic, Measured qudit (4) as (1) and was deterministic]\n"
     ]
    }
   ],
   "source": [
    "# ZZI\n",
    "circuit.add_gate('CNOT', 0, 3)\n",
    "circuit.add_gate('CNOT', 1, 3)\n",
    "# IZZ\n",
    "circuit.add_gate('CNOT', 1, 4)\n",
    "circuit.add_gate('CNOT', 2, 4)\n",
    "# Measure\n",
    "circuit.add_gate('MEASURE', 3)\n",
    "circuit.add_gate('MEASURE', 4)\n",
    "\n",
    "program = Program(circuit)\n",
    "result = program.simulate()\n",
    "print(result)"
   ]
  },
  {
   "cell_type": "code",
   "execution_count": 5,
   "metadata": {},
   "outputs": [
    {
     "name": "stdout",
     "output_type": "stream",
     "text": [
      "                             ┌─────────────────┐                                     ┌─────────────────┐\n",
      "0 (d=2): ───CNOT_2_control────CNOT_2_control───────CNOT_2_control─────────────────────────────────────────────────────────────────\n",
      "            │                 │                    │\n",
      "1 (d=2): ───CNOT_2_target─────┼─────────────X_2────┼────────────────CNOT_2_control────CNOT_2_control──────────────────────────────\n",
      "                              │                    │                │                 │\n",
      "2 (d=2): ─────────────────────CNOT_2_target────────┼────────────────┼─────────────────┼────────────────────CNOT_2_control─────────\n",
      "                                                   │                │                 │                    │\n",
      "3 (d=2): ──────────────────────────────────────────CNOT_2_target────CNOT_2_target─────┼─────────────I_2────┼──────────────────────\n",
      "                                                                                      │                    │\n",
      "4 (d=2): ─────────────────────────────────────────────────────────────────────────────CNOT_2_target────────CNOT_2_target────I_2───\n",
      "                             └─────────────────┘                                     └─────────────────┘\n"
     ]
    }
   ],
   "source": [
    "cirq_circuit = circuit_to_cirq_circuit(circuit)\n",
    "print(cirq_circuit)"
   ]
  },
  {
   "cell_type": "markdown",
   "metadata": {},
   "source": [
    "The following table is the syndrome and the corresponding error\n",
    "\\begin{array}{|c|c|}\n",
    "\\hline\n",
    "\\text{Syndrome $(q_3, q_4)$} & \\text{Error} \\\\\n",
    "\\hline\n",
    "00 & \\text{None} \\\\\n",
    "01 & X \\text{ on qubit 2} \\\\\n",
    "10 & X \\text{ on qubit 0} \\\\\n",
    "11 & X \\text{ on qubit 1} \\\\\n",
    "\\hline\n",
    "\\end{array}"
   ]
  },
  {
   "cell_type": "markdown",
   "metadata": {},
   "source": [
    "### Moving to qutrits\n",
    "The concept is the same, measuring syndromes to calculate the parity. The new syndrome mesaurements are $Z\\otimes Z^{-1} \\otimes I$ and $I \\otimes Z \\otimes Z^{-1}$. These syndromes also have to detect more types of 'bit' flips, namely $X$ and $X^2$, where the ternary Pauli operator is no longer Hermitian."
   ]
  },
  {
   "cell_type": "code",
   "execution_count": 6,
   "metadata": {},
   "outputs": [
    {
     "data": {
      "text/plain": [
       "Circuit(num_qudits=5, dimension=3, operations=[CircuitInstruction(gate_data=GateData(gateMap={'I': Gate(name='I', arg_count=1, gate_id=0), 'X': Gate(name='X', arg_count=1, gate_id=1), 'X_INV': Gate(name='X_INV', arg_count=1, gate_id=2), 'Z': Gate(name='Z', arg_count=1, gate_id=3), 'Z_INV': Gate(name='Z_INV', arg_count=1, gate_id=4), 'H': Gate(name='H', arg_count=1, gate_id=5), 'H_INV': Gate(name='H_INV', arg_count=1, gate_id=6), 'P': Gate(name='P', arg_count=1, gate_id=7), 'P_INV': Gate(name='P_INV', arg_count=1, gate_id=8), 'CNOT': Gate(name='CNOT', arg_count=2, gate_id=9), 'CNOT_INV': Gate(name='CNOT_INV', arg_count=2, gate_id=10), 'CZ': Gate(name='CZ', arg_count=2, gate_id=11), 'CZ_INV': Gate(name='CZ_INV', arg_count=2, gate_id=12), 'SWAP': Gate(name='SWAP', arg_count=2, gate_id=13), 'M': Gate(name='M', arg_count=1, gate_id=14), 'M_X': Gate(name='M_X', arg_count=1, gate_id=15)}, aliasMap={'R': 'H', 'DFT': 'H', 'R_INV': 'H_INV', 'DFT_INV': 'H_INV', 'H_DAG': 'H_INV', 'R_DAG': 'H_INV', 'DFT_DAG': 'H_INV', 'PHASE': 'P', 'S': 'P', 'PHASE_INV': 'P_INV', 'S_INV': 'P_INV', 'SUM': 'CNOT', 'CX': 'CNOT', 'C': 'CNOT', 'SUM_INV': 'CNOT_INV', 'CX_INV': 'CNOT_INV', 'C_INV': 'CNOT_INV', 'MEASURE': 'M', 'COLLAPSE': 'M', 'MZ': 'M', 'MEASURE_X': 'M_X', 'MX': 'M_X'}, num_gates=16, dimension=3), gate_name='CNOT', qudit_index=0, target_index=1, gate_id=9, name='CNOT'), CircuitInstruction(gate_data=GateData(gateMap={'I': Gate(name='I', arg_count=1, gate_id=0), 'X': Gate(name='X', arg_count=1, gate_id=1), 'X_INV': Gate(name='X_INV', arg_count=1, gate_id=2), 'Z': Gate(name='Z', arg_count=1, gate_id=3), 'Z_INV': Gate(name='Z_INV', arg_count=1, gate_id=4), 'H': Gate(name='H', arg_count=1, gate_id=5), 'H_INV': Gate(name='H_INV', arg_count=1, gate_id=6), 'P': Gate(name='P', arg_count=1, gate_id=7), 'P_INV': Gate(name='P_INV', arg_count=1, gate_id=8), 'CNOT': Gate(name='CNOT', arg_count=2, gate_id=9), 'CNOT_INV': Gate(name='CNOT_INV', arg_count=2, gate_id=10), 'CZ': Gate(name='CZ', arg_count=2, gate_id=11), 'CZ_INV': Gate(name='CZ_INV', arg_count=2, gate_id=12), 'SWAP': Gate(name='SWAP', arg_count=2, gate_id=13), 'M': Gate(name='M', arg_count=1, gate_id=14), 'M_X': Gate(name='M_X', arg_count=1, gate_id=15)}, aliasMap={'R': 'H', 'DFT': 'H', 'R_INV': 'H_INV', 'DFT_INV': 'H_INV', 'H_DAG': 'H_INV', 'R_DAG': 'H_INV', 'DFT_DAG': 'H_INV', 'PHASE': 'P', 'S': 'P', 'PHASE_INV': 'P_INV', 'S_INV': 'P_INV', 'SUM': 'CNOT', 'CX': 'CNOT', 'C': 'CNOT', 'SUM_INV': 'CNOT_INV', 'CX_INV': 'CNOT_INV', 'C_INV': 'CNOT_INV', 'MEASURE': 'M', 'COLLAPSE': 'M', 'MZ': 'M', 'MEASURE_X': 'M_X', 'MX': 'M_X'}, num_gates=16, dimension=3), gate_name='CNOT', qudit_index=0, target_index=2, gate_id=9, name='CNOT')], gate_data=GateData(gateMap={'I': Gate(name='I', arg_count=1, gate_id=0), 'X': Gate(name='X', arg_count=1, gate_id=1), 'X_INV': Gate(name='X_INV', arg_count=1, gate_id=2), 'Z': Gate(name='Z', arg_count=1, gate_id=3), 'Z_INV': Gate(name='Z_INV', arg_count=1, gate_id=4), 'H': Gate(name='H', arg_count=1, gate_id=5), 'H_INV': Gate(name='H_INV', arg_count=1, gate_id=6), 'P': Gate(name='P', arg_count=1, gate_id=7), 'P_INV': Gate(name='P_INV', arg_count=1, gate_id=8), 'CNOT': Gate(name='CNOT', arg_count=2, gate_id=9), 'CNOT_INV': Gate(name='CNOT_INV', arg_count=2, gate_id=10), 'CZ': Gate(name='CZ', arg_count=2, gate_id=11), 'CZ_INV': Gate(name='CZ_INV', arg_count=2, gate_id=12), 'SWAP': Gate(name='SWAP', arg_count=2, gate_id=13), 'M': Gate(name='M', arg_count=1, gate_id=14), 'M_X': Gate(name='M_X', arg_count=1, gate_id=15)}, aliasMap={'R': 'H', 'DFT': 'H', 'R_INV': 'H_INV', 'DFT_INV': 'H_INV', 'H_DAG': 'H_INV', 'R_DAG': 'H_INV', 'DFT_DAG': 'H_INV', 'PHASE': 'P', 'S': 'P', 'PHASE_INV': 'P_INV', 'S_INV': 'P_INV', 'SUM': 'CNOT', 'CX': 'CNOT', 'C': 'CNOT', 'SUM_INV': 'CNOT_INV', 'CX_INV': 'CNOT_INV', 'C_INV': 'CNOT_INV', 'MEASURE': 'M', 'COLLAPSE': 'M', 'MZ': 'M', 'MEASURE_X': 'M_X', 'MX': 'M_X'}, num_gates=16, dimension=3))"
      ]
     },
     "execution_count": 6,
     "metadata": {},
     "output_type": "execute_result"
    }
   ],
   "source": [
    "qutrit_circuit = Circuit(5, 3)\n",
    "qutrit_circuit.add_gate('CNOT', 0, 1) # Called CNOT but turns into SUM gate\n",
    "qutrit_circuit.add_gate('CNOT', 0, 2) "
   ]
  },
  {
   "cell_type": "code",
   "execution_count": 7,
   "metadata": {},
   "outputs": [
    {
     "name": "stdout",
     "output_type": "stream",
     "text": [
      "No error inserted\n"
     ]
    }
   ],
   "source": [
    "def insert_qutrit_x_error(circuit, p=0.5):\n",
    "    if np.random.rand() < p:\n",
    "        i = np.random.choice(3)  # choose a random qubit from 0, 1, 2\n",
    "        error_order = np.random.choice([1, 2])  # choose between 1 and 2\n",
    "        for _ in range(error_order):\n",
    "            circuit.add_gate('X', i)\n",
    "        print(f'X^{error_order} error inserted on qubit {i}')\n",
    "    else:\n",
    "        print('No error inserted')\n",
    "    return\n",
    "insert_qutrit_x_error(qutrit_circuit, p=0.8)"
   ]
  },
  {
   "cell_type": "code",
   "execution_count": 8,
   "metadata": {},
   "outputs": [
    {
     "name": "stdout",
     "output_type": "stream",
     "text": [
      "[Measured qudit (3) as (0) and was deterministic, Measured qudit (4) as (0) and was deterministic]\n"
     ]
    }
   ],
   "source": [
    "# ZZ^2I\n",
    "qutrit_circuit.add_gate('CNOT', 0, 3)\n",
    "qutrit_circuit.add_gate('CNOT', 1, 3)\n",
    "qutrit_circuit.add_gate('CNOT', 1, 3)\n",
    "# IZZ^2\n",
    "qutrit_circuit.add_gate('CNOT', 1, 4)\n",
    "qutrit_circuit.add_gate('CNOT', 2, 4)\n",
    "qutrit_circuit.add_gate('CNOT', 2, 4)\n",
    "# Measure\n",
    "qutrit_circuit.add_gate('MEASURE', 3)\n",
    "qutrit_circuit.add_gate('MEASURE', 4)\n",
    "\n",
    "qutrit_program = Program(qutrit_circuit)\n",
    "qutrit_result = qutrit_program.simulate()\n",
    "print(qutrit_result)"
   ]
  },
  {
   "cell_type": "code",
   "execution_count": 9,
   "metadata": {},
   "outputs": [
    {
     "name": "stdout",
     "output_type": "stream",
     "text": [
      "                                                                                                 ┌─────────────────┐\n",
      "0 (d=3): ───CNOT_3_control───CNOT_3_control───CNOT_3_control───────────────────────────────────────────────────────────────────────────────────────────────────\n",
      "            │                │                │\n",
      "1 (d=3): ───CNOT_3_target────┼────────────────┼────────────────CNOT_3_control───CNOT_3_control────CNOT_3_control───────────────────────────────────────────────\n",
      "                             │                │                │                │                 │\n",
      "2 (d=3): ────────────────────CNOT_3_target────┼────────────────┼────────────────┼─────────────────┼────────────────────CNOT_3_control───CNOT_3_control─────────\n",
      "                                              │                │                │                 │                    │                │\n",
      "3 (d=3): ─────────────────────────────────────CNOT_3_target────CNOT_3_target────CNOT_3_target─────┼─────────────I_3────┼────────────────┼──────────────────────\n",
      "                                                                                                  │                    │                │\n",
      "4 (d=3): ─────────────────────────────────────────────────────────────────────────────────────────CNOT_3_target────────CNOT_3_target────CNOT_3_target────I_3───\n",
      "                                                                                                 └─────────────────┘\n"
     ]
    }
   ],
   "source": [
    "cirq_qutrit_circuit = circuit_to_cirq_circuit(qutrit_circuit)\n",
    "print(cirq_qutrit_circuit)"
   ]
  },
  {
   "cell_type": "markdown",
   "metadata": {},
   "source": [
    "\\begin{array}{|c|c|}\n",
    "\\hline\n",
    "\\text{Syndrome $(q_3, q_4)$} & \\text{Error} \\\\\n",
    "\\hline\n",
    "00 & \\text{None} \\\\\n",
    "10 & X \\text{ on qubit 0} \\\\\n",
    "20 & X^2 \\text{ on qubit 0} \\\\\n",
    "21 & X \\text{ on qubit 1} \\\\\n",
    "12 & X^2 \\text{ on qubit 1} \\\\\n",
    "02 & X \\text{ on qubit 2} \\\\ \n",
    "01 & X^2 \\text{ on qubit 2} \\\\ \n",
    "\\hline\n",
    "\\end{array}"
   ]
  },
  {
   "cell_type": "markdown",
   "metadata": {},
   "source": [
    "### Moving to ququarts\n",
    "Things get a little strange in composite dimensions. The syndrome mesaurements are still $Z\\otimes Z^{-1} \\otimes I$ and $I \\otimes Z \\otimes Z^{-1}$."
   ]
  },
  {
   "cell_type": "code",
   "execution_count": 10,
   "metadata": {},
   "outputs": [
    {
     "data": {
      "text/plain": [
       "Circuit(num_qudits=5, dimension=3, operations=[CircuitInstruction(gate_data=GateData(gateMap={'I': Gate(name='I', arg_count=1, gate_id=0), 'X': Gate(name='X', arg_count=1, gate_id=1), 'X_INV': Gate(name='X_INV', arg_count=1, gate_id=2), 'Z': Gate(name='Z', arg_count=1, gate_id=3), 'Z_INV': Gate(name='Z_INV', arg_count=1, gate_id=4), 'H': Gate(name='H', arg_count=1, gate_id=5), 'H_INV': Gate(name='H_INV', arg_count=1, gate_id=6), 'P': Gate(name='P', arg_count=1, gate_id=7), 'P_INV': Gate(name='P_INV', arg_count=1, gate_id=8), 'CNOT': Gate(name='CNOT', arg_count=2, gate_id=9), 'CNOT_INV': Gate(name='CNOT_INV', arg_count=2, gate_id=10), 'CZ': Gate(name='CZ', arg_count=2, gate_id=11), 'CZ_INV': Gate(name='CZ_INV', arg_count=2, gate_id=12), 'SWAP': Gate(name='SWAP', arg_count=2, gate_id=13), 'M': Gate(name='M', arg_count=1, gate_id=14), 'M_X': Gate(name='M_X', arg_count=1, gate_id=15)}, aliasMap={'R': 'H', 'DFT': 'H', 'R_INV': 'H_INV', 'DFT_INV': 'H_INV', 'H_DAG': 'H_INV', 'R_DAG': 'H_INV', 'DFT_DAG': 'H_INV', 'PHASE': 'P', 'S': 'P', 'PHASE_INV': 'P_INV', 'S_INV': 'P_INV', 'SUM': 'CNOT', 'CX': 'CNOT', 'C': 'CNOT', 'SUM_INV': 'CNOT_INV', 'CX_INV': 'CNOT_INV', 'C_INV': 'CNOT_INV', 'MEASURE': 'M', 'COLLAPSE': 'M', 'MZ': 'M', 'MEASURE_X': 'M_X', 'MX': 'M_X'}, num_gates=16, dimension=3), gate_name='CNOT', qudit_index=0, target_index=1, gate_id=9, name='CNOT'), CircuitInstruction(gate_data=GateData(gateMap={'I': Gate(name='I', arg_count=1, gate_id=0), 'X': Gate(name='X', arg_count=1, gate_id=1), 'X_INV': Gate(name='X_INV', arg_count=1, gate_id=2), 'Z': Gate(name='Z', arg_count=1, gate_id=3), 'Z_INV': Gate(name='Z_INV', arg_count=1, gate_id=4), 'H': Gate(name='H', arg_count=1, gate_id=5), 'H_INV': Gate(name='H_INV', arg_count=1, gate_id=6), 'P': Gate(name='P', arg_count=1, gate_id=7), 'P_INV': Gate(name='P_INV', arg_count=1, gate_id=8), 'CNOT': Gate(name='CNOT', arg_count=2, gate_id=9), 'CNOT_INV': Gate(name='CNOT_INV', arg_count=2, gate_id=10), 'CZ': Gate(name='CZ', arg_count=2, gate_id=11), 'CZ_INV': Gate(name='CZ_INV', arg_count=2, gate_id=12), 'SWAP': Gate(name='SWAP', arg_count=2, gate_id=13), 'M': Gate(name='M', arg_count=1, gate_id=14), 'M_X': Gate(name='M_X', arg_count=1, gate_id=15)}, aliasMap={'R': 'H', 'DFT': 'H', 'R_INV': 'H_INV', 'DFT_INV': 'H_INV', 'H_DAG': 'H_INV', 'R_DAG': 'H_INV', 'DFT_DAG': 'H_INV', 'PHASE': 'P', 'S': 'P', 'PHASE_INV': 'P_INV', 'S_INV': 'P_INV', 'SUM': 'CNOT', 'CX': 'CNOT', 'C': 'CNOT', 'SUM_INV': 'CNOT_INV', 'CX_INV': 'CNOT_INV', 'C_INV': 'CNOT_INV', 'MEASURE': 'M', 'COLLAPSE': 'M', 'MZ': 'M', 'MEASURE_X': 'M_X', 'MX': 'M_X'}, num_gates=16, dimension=3), gate_name='CNOT', qudit_index=0, target_index=2, gate_id=9, name='CNOT')], gate_data=GateData(gateMap={'I': Gate(name='I', arg_count=1, gate_id=0), 'X': Gate(name='X', arg_count=1, gate_id=1), 'X_INV': Gate(name='X_INV', arg_count=1, gate_id=2), 'Z': Gate(name='Z', arg_count=1, gate_id=3), 'Z_INV': Gate(name='Z_INV', arg_count=1, gate_id=4), 'H': Gate(name='H', arg_count=1, gate_id=5), 'H_INV': Gate(name='H_INV', arg_count=1, gate_id=6), 'P': Gate(name='P', arg_count=1, gate_id=7), 'P_INV': Gate(name='P_INV', arg_count=1, gate_id=8), 'CNOT': Gate(name='CNOT', arg_count=2, gate_id=9), 'CNOT_INV': Gate(name='CNOT_INV', arg_count=2, gate_id=10), 'CZ': Gate(name='CZ', arg_count=2, gate_id=11), 'CZ_INV': Gate(name='CZ_INV', arg_count=2, gate_id=12), 'SWAP': Gate(name='SWAP', arg_count=2, gate_id=13), 'M': Gate(name='M', arg_count=1, gate_id=14), 'M_X': Gate(name='M_X', arg_count=1, gate_id=15)}, aliasMap={'R': 'H', 'DFT': 'H', 'R_INV': 'H_INV', 'DFT_INV': 'H_INV', 'H_DAG': 'H_INV', 'R_DAG': 'H_INV', 'DFT_DAG': 'H_INV', 'PHASE': 'P', 'S': 'P', 'PHASE_INV': 'P_INV', 'S_INV': 'P_INV', 'SUM': 'CNOT', 'CX': 'CNOT', 'C': 'CNOT', 'SUM_INV': 'CNOT_INV', 'CX_INV': 'CNOT_INV', 'C_INV': 'CNOT_INV', 'MEASURE': 'M', 'COLLAPSE': 'M', 'MZ': 'M', 'MEASURE_X': 'M_X', 'MX': 'M_X'}, num_gates=16, dimension=3))"
      ]
     },
     "execution_count": 10,
     "metadata": {},
     "output_type": "execute_result"
    }
   ],
   "source": [
    "ququart_circuit = Circuit(5, 3)\n",
    "ququart_circuit.add_gate('CNOT', 0, 1) # Called CNOT but turns into SUM gate\n",
    "ququart_circuit.add_gate('CNOT', 0, 2) "
   ]
  },
  {
   "cell_type": "code",
   "execution_count": 11,
   "metadata": {},
   "outputs": [
    {
     "name": "stdout",
     "output_type": "stream",
     "text": [
      "X^3 error inserted on qubit 2\n"
     ]
    }
   ],
   "source": [
    "def insert_ququart_x_error(circuit, p=0.5):\n",
    "    if np.random.rand() < p:\n",
    "        i = np.random.choice(3)  # choose a random qubit from 0, 1, 2\n",
    "        error_order = np.random.choice([1, 2, 3])  # choose between 1 and 2\n",
    "        for _ in range(error_order):\n",
    "            circuit.add_gate('X', i)\n",
    "        print(f'X^{error_order} error inserted on qubit {i}')\n",
    "    else:\n",
    "        print('No error inserted')\n",
    "    return\n",
    "insert_ququart_x_error(ququart_circuit, p=0.8)"
   ]
  },
  {
   "cell_type": "code",
   "execution_count": 12,
   "metadata": {},
   "outputs": [
    {
     "name": "stdout",
     "output_type": "stream",
     "text": [
      "[Measured qudit (3) as (0) and was deterministic, Measured qudit (4) as (0) and was deterministic]\n"
     ]
    }
   ],
   "source": [
    "# ZZ^3I\n",
    "ququart_circuit.add_gate('CNOT', 0, 3)\n",
    "ququart_circuit.add_gate('CNOT', 1, 3)\n",
    "ququart_circuit.add_gate('CNOT', 1, 3)\n",
    "ququart_circuit.add_gate('CNOT', 1, 3)\n",
    "# IZZ^3\n",
    "ququart_circuit.add_gate('CNOT', 1, 4)\n",
    "ququart_circuit.add_gate('CNOT', 2, 4)\n",
    "ququart_circuit.add_gate('CNOT', 2, 4)\n",
    "ququart_circuit.add_gate('CNOT', 2, 4)\n",
    "# Measure\n",
    "ququart_circuit.add_gate('MEASURE', 3)\n",
    "ququart_circuit.add_gate('MEASURE', 4)\n",
    "\n",
    "ququart_program = Program(ququart_circuit)\n",
    "ququart_result = ququart_program.simulate()\n",
    "print(ququart_result)"
   ]
  },
  {
   "cell_type": "code",
   "execution_count": 13,
   "metadata": {},
   "outputs": [
    {
     "name": "stdout",
     "output_type": "stream",
     "text": [
      "                                              ┌─────────────────┐   ┌─────────────────┐   ┌─────────────────┐                    ┌─────────────────┐\n",
      "0 (d=3): ───CNOT_3_control───CNOT_3_control───────CNOT_3_control────────────────────────────────────────────────────────────────────────────────────────────────────────────────────────────────────────────────\n",
      "            │                │                    │\n",
      "1 (d=3): ───CNOT_3_target────┼────────────────────┼─────────────────────CNOT_3_control────────CNOT_3_control────CNOT_3_control────CNOT_3_control────────────────────────────────────────────────────────────────\n",
      "                             │                    │                     │                     │                 │                 │\n",
      "2 (d=3): ────────────────────CNOT_3_target─────X_3┼──────────────────X_3┼──────────────────X_3┼─────────────────┼─────────────────┼────────────────────CNOT_3_control───CNOT_3_control───CNOT_3_control─────────\n",
      "                                                  │                     │                     │                 │                 │                    │                │                │\n",
      "3 (d=3): ─────────────────────────────────────────CNOT_3_target─────────CNOT_3_target─────────CNOT_3_target─────CNOT_3_target─────┼─────────────I_3────┼────────────────┼────────────────┼──────────────────────\n",
      "                                                                                                                                  │                    │                │                │\n",
      "4 (d=3): ─────────────────────────────────────────────────────────────────────────────────────────────────────────────────────────CNOT_3_target────────CNOT_3_target────CNOT_3_target────CNOT_3_target────I_3───\n",
      "                                              └─────────────────┘   └─────────────────┘   └─────────────────┘                    └─────────────────┘\n"
     ]
    }
   ],
   "source": [
    "cirq_ququart_circuit = circuit_to_cirq_circuit(ququart_circuit)\n",
    "print(cirq_ququart_circuit)"
   ]
  }
 ],
 "metadata": {
  "kernelspec": {
   "display_name": "QuantumComputing",
   "language": "python",
   "name": "python3"
  },
  "language_info": {
   "codemirror_mode": {
    "name": "ipython",
    "version": 3
   },
   "file_extension": ".py",
   "mimetype": "text/x-python",
   "name": "python",
   "nbconvert_exporter": "python",
   "pygments_lexer": "ipython3",
   "version": "3.11.5"
  }
 },
 "nbformat": 4,
 "nbformat_minor": 2
}
